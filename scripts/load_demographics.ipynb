{
 "cells": [
  {
   "cell_type": "code",
   "execution_count": 118,
   "metadata": {},
   "outputs": [],
   "source": [
    "from pyspark.sql import SparkSession\n",
    "\n",
    "\n",
    "# Initialize Spark Session\n",
    "spark = SparkSession.builder.appName(\"cycles\").getOrCreate()"
   ]
  },
  {
   "cell_type": "code",
   "execution_count": 119,
   "metadata": {},
   "outputs": [],
   "source": [
    "df_person = spark.read.csv(\"../workshop-files/person.csv\", header=True)\n",
    "df_products = spark.read.csv(\"../workshop-files/products.csv\", header=True)\n",
    "df_sales = spark.read.csv(\"../workshop-files/sales.csv\", header=True)"
   ]
  },
  {
   "cell_type": "code",
   "execution_count": null,
   "metadata": {},
   "outputs": [],
   "source": []
  },
  {
   "cell_type": "code",
   "execution_count": 120,
   "metadata": {},
   "outputs": [],
   "source": [
    "from pyspark.sql.functions import col, udf, when\n",
    "\n",
    "df_sales_details = (\n",
    "    df_sales.join(df_products, \"ProductID\", \"inner\")\n",
    "    .select(\n",
    "        col(\"PersonID\"),\n",
    "        col(\"ProductID\"),\n",
    "        col(\"Model\"),\n",
    "        col(\"ProductCategoryName\"),\n",
    "        col(\"Region\"),\n",
    ")   .filter(\n",
    "    (col('Model') == 'Bikes') | (col('ProductCategoryName') == 'Bikes')\n",
    "))\n",
    "\n",
    "\n",
    "df_cust_details = df_sales_details.join(df_person, \"PersonID\", \"inner\").drop(\"AddressLine2\", \"Title\")"
   ]
  },
  {
   "cell_type": "code",
   "execution_count": 121,
   "metadata": {},
   "outputs": [
    {
     "name": "stderr",
     "output_type": "stream",
     "text": [
      "                                                                                \r"
     ]
    },
    {
     "name": "stdout",
     "output_type": "stream",
     "text": [
      "+--------+---------+--------------+-------------------+-------------+---------+----------+---------+---------+--------------------+------+--------------------+--------------------+-------------------+\n",
      "|PersonID|ProductID|         Model|ProductCategoryName|       Region|FirstName|MiddleName| LastName|NameStyle|        Demographics|Suffix|        EmailAddress|        AddressLine1|        PhoneNumber|\n",
      "+--------+---------+--------------+-------------------+-------------+---------+----------+---------+---------+--------------------+------+--------------------+--------------------+-------------------+\n",
      "|    4937|      781|  Mountain-200|              Bikes|North America|    Devin|      NULL| Thompson|    False|\"\"\"<IndividualSur...|  NULL|devin14@adventure...|      618 Oak Street|       681-555-0150|\n",
      "|    4937|      783|  Mountain-200|              Bikes|North America|    Devin|      NULL| Thompson|    False|\"\"\"<IndividualSur...|  NULL|devin14@adventure...|      618 Oak Street|       681-555-0150|\n",
      "|    6731|      797|    Road-550-W|              Bikes|       Europe| Theodore|      NULL|   Romero|    False|\"\"\"<IndividualSur...|  NULL|theodore9@adventu...|     8011 McNutt Ave|1 (11) 500 555-0199|\n",
      "|    7273|      780|  Mountain-200|              Bikes|      Pacific|      Ann|      NULL| Gonzalez|    False|\"\"\"<IndividualSur...|  NULL|ann23@adventure-w...|  4166 Deercreek Ln.|1 (11) 500 555-0118|\n",
      "|    7273|      954|  Touring-1000|              Bikes|      Pacific|      Ann|      NULL| Gonzalez|    False|\"\"\"<IndividualSur...|  NULL|ann23@adventure-w...|  4166 Deercreek Ln.|1 (11) 500 555-0118|\n",
      "|    7273|      778|  Mountain-100|              Bikes|      Pacific|      Ann|      NULL| Gonzalez|    False|\"\"\"<IndividualSur...|  NULL|ann23@adventure-w...|  4166 Deercreek Ln.|1 (11) 500 555-0118|\n",
      "|   11722|      764|      Road-650|              Bikes|North America|  Brianna|      NULL|   Thomas|    False|\"\"\"<IndividualSur...|  NULL|brianna9@adventur...| 7539 Hazelwood Lane|       113-555-0130|\n",
      "|   11722|      782|  Mountain-200|              Bikes|North America|  Brianna|      NULL|   Thomas|    False|\"\"\"<IndividualSur...|  NULL|brianna9@adventur...| 7539 Hazelwood Lane|       113-555-0130|\n",
      "|   12394|      781|  Mountain-200|              Bikes|       Europe|    Lacey|      NULL|       He|    False|\"\"\"<IndividualSur...|  NULL|lacey31@adventure...| 342 Summerfield Dr.|1 (11) 500 555-0148|\n",
      "|   12394|      955|  Touring-1000|              Bikes|       Europe|    Lacey|      NULL|       He|    False|\"\"\"<IndividualSur...|  NULL|lacey31@adventure...| 342 Summerfield Dr.|1 (11) 500 555-0148|\n",
      "|   12394|      753|      Road-150|              Bikes|       Europe|    Lacey|      NULL|       He|    False|\"\"\"<IndividualSur...|  NULL|lacey31@adventure...| 342 Summerfield Dr.|1 (11) 500 555-0148|\n",
      "|   14899|      977|      Road-750|              Bikes|North America|    Mason|      NULL|     Ward|    False|\"\"\"<IndividualSur...|  NULL|mason12@adventure...|  5430 Park Glen Ct.|       240-555-0147|\n",
      "|   17714|      960|  Touring-3000|              Bikes|       Europe| Margaret|      NULL|       Ye|    False|\"\"\"<IndividualSur...|  NULL|margaret16@advent...|        Kampstr 7257|1 (11) 500 555-0175|\n",
      "|    5645|      977|      Road-750|              Bikes|North America|     Luke|      NULL|Patterson|    False|\"\"\"<IndividualSur...|  NULL|luke29@adventure-...|       6381 Cardinal|       560-555-0134|\n",
      "|    9586|      780|  Mountain-200|              Bikes|North America|  Natalie|      NULL|   Turner|    False|\"\"\"<IndividualSur...|  NULL|natalie48@adventu...|  3955 Anchor Avenue|       460-555-0119|\n",
      "|   11078|      790|      Road-250|              Bikes|North America|      Joe|      NULL|     Sanz|    False|\"\"\"<IndividualSur...|  NULL|joe43@adventure-w...|6696 Park Highlan...|       729-555-0156|\n",
      "|   11078|      780|  Mountain-200|              Bikes|North America|      Joe|      NULL|     Sanz|    False|\"\"\"<IndividualSur...|  NULL|joe43@adventure-w...|6696 Park Highlan...|       729-555-0156|\n",
      "|   16320|      797|    Road-550-W|              Bikes|North America|    Henry|      NULL|   Nelson|    False|\"\"\"<IndividualSur...|  NULL|henry23@adventure...| 715 Pheasant Circle|       306-555-0183|\n",
      "|    2464|      998|      Road-750|              Bikes|North America| Isabella|      NULL|    Kelly|    False|\"\"\"<IndividualSur...|  NULL|isabella9@adventu...|   1706 Valley Blvd.|       471-555-0148|\n",
      "|    3368|      980|Mountain-400-W|              Bikes|North America|Gabrielle|      NULL|     Diaz|    False|\"\"\"<IndividualSur...|  NULL|gabrielle44@adven...|        5816 Camacho|       914-555-0114|\n",
      "+--------+---------+--------------+-------------------+-------------+---------+----------+---------+---------+--------------------+------+--------------------+--------------------+-------------------+\n",
      "only showing top 20 rows\n",
      "\n"
     ]
    }
   ],
   "source": [
    "df_cust_details.show()"
   ]
  },
  {
   "cell_type": "code",
   "execution_count": 122,
   "metadata": {},
   "outputs": [],
   "source": [
    "# Code by Diko changed the TotalPurhaseYTD column type to integer\n",
    "from pyspark.sql.types import (\n",
    "    StructType,\n",
    "    StructField,\n",
    "    StringType,\n",
    "    IntegerType,\n",
    "    DecimalType,\n",
    ")\n",
    "import xml.etree.ElementTree as ET\n",
    "\n",
    "# Define the schema for the UDF's return type\n",
    "schema = StructType(\n",
    "    [\n",
    "        StructField(\"TotalPurchaseYTD\", DecimalType(), True),\n",
    "        StructField(\"DateFirstPurchase\", StringType(), True),\n",
    "        StructField(\"BirthDate\", StringType(), True),\n",
    "        StructField(\"MaritalStatus\", StringType(), True),\n",
    "        StructField(\"YearlyIncome\", StringType(), True),\n",
    "        StructField(\"Gender\", StringType(), True),\n",
    "        StructField(\"TotalChildren\", IntegerType(), True),\n",
    "        StructField(\"NumberChildrenAtHome\", IntegerType(), True),\n",
    "        StructField(\"Education\", StringType(), True),\n",
    "        StructField(\"Occupation\", StringType(), True),\n",
    "        StructField(\"HomeOwnerFlag\", IntegerType(), True),\n",
    "        StructField(\"NumberCarsOwned\", IntegerType(), True),\n",
    "        StructField(\"CommuteDistance\", StringType(), True),\n",
    "    ]\n",
    ")\n",
    "\n",
    "\n",
    "def parse_xml(xml_str):\n",
    "    if xml_str is None:\n",
    "        return (None,) * 13\n",
    "\n",
    "    xml_str = xml_str.strip('\"').replace('\"\"\"', '\"')\n",
    "    xml_str = xml_str.replace('\"\"', '\"')\n",
    "\n",
    "    if not xml_str.startswith(\"<\") or not xml_str.endswith(\">\"):\n",
    "        return (None,) * 13\n",
    "\n",
    "    try:\n",
    "        root = ET.fromstring(xml_str)\n",
    "        namespace = {\n",
    "            \"ns\": \"http://schemas.microsoft.com/sqlserver/2004/07/adventure-works/IndividualSurvey\"\n",
    "        }\n",
    "        return (\n",
    "            root.findtext(\"ns:TotalPurchaseYTD\", default=\"\", namespaces=namespace),\n",
    "            root.findtext(\"ns:DateFirstPurchase\", default=\"\", namespaces=namespace),\n",
    "            root.findtext(\"ns:BirthDate\", default=\"\", namespaces=namespace),\n",
    "            root.findtext(\"ns:MaritalStatus\", default=\"\", namespaces=namespace),\n",
    "            root.findtext(\"ns:YearlyIncome\", default=\"\", namespaces=namespace),\n",
    "            root.findtext(\"ns:Gender\", default=\"\", namespaces=namespace),\n",
    "            int(root.findtext(\"ns:TotalChildren\", default=0, namespaces=namespace)),\n",
    "            int(\n",
    "                root.findtext(\n",
    "                    \"ns:NumberChildrenAtHome\", default=0, namespaces=namespace\n",
    "                )\n",
    "            ),\n",
    "            root.findtext(\"ns:Education\", default=\"\", namespaces=namespace),\n",
    "            root.findtext(\"ns:Occupation\", default=\"\", namespaces=namespace),\n",
    "            int(root.findtext(\"ns:HomeOwnerFlag\", default=0, namespaces=namespace)),\n",
    "            int(root.findtext(\"ns:NumberCarsOwned\", default=0, namespaces=namespace)),\n",
    "            root.findtext(\"ns:CommuteDistance\", default=\"\", namespaces=namespace),\n",
    "        )\n",
    "    except Exception:\n",
    "        raise ValueError(f\"Unable to parse XML: {xml_str}\")\n",
    "\n",
    "\n",
    "parse_xml_udf = udf(parse_xml, schema)\n",
    "\n",
    "df_cust_details = df_cust_details.withColumn(\n",
    "    \"expanded\", parse_xml_udf(col(\"Demographics\"))\n",
    ")\n",
    "\n",
    "for field in schema.fields:\n",
    "    df_cust_details = df_cust_details.withColumn(\n",
    "        field.name, col(\"expanded.\" + field.name)\n",
    "    )\n",
    "\n",
    "\n",
    "df_cust_details = df_cust_details.select(\n",
    "    col(\"FirstName\"),\n",
    "    col(\"LastName\"),\n",
    "    col(\"AddressLine1\"),\n",
    "    col(\"DateFirstPurchase\"),\n",
    "    col(\"BirthDate\"),\n",
    "    col(\"MaritalStatus\"),\n",
    "    col(\"YearlyIncome\"),\n",
    "    col(\"Gender\"),\n",
    "    col(\"TotalChildren\"),\n",
    "    col(\"NumberChildrenAtHome\"),\n",
    "    col(\"Education\"),\n",
    "    col(\"Occupation\"),\n",
    "    col(\"HomeOwnerFlag\"),\n",
    "    col(\"NumberCarsOwned\"),\n",
    "    col(\"CommuteDistance\"),\n",
    "    col(\"TotalPurchaseYTD\"),\n",
    "    col(\"Model\"),\n",
    "    col(\"ProductCategoryName\"),\n",
    ")"
   ]
  },
  {
   "cell_type": "code",
   "execution_count": 123,
   "metadata": {},
   "outputs": [
    {
     "name": "stdout",
     "output_type": "stream",
     "text": [
      "+---------+--------+--------------------+-----------------+-----------+-------------+-------------------+------+-------------+--------------------+-------------------+--------------+-------------+---------------+---------------+----------------+------------+-------------------+\n",
      "|FirstName|LastName|        AddressLine1|DateFirstPurchase|  BirthDate|MaritalStatus|       YearlyIncome|Gender|TotalChildren|NumberChildrenAtHome|          Education|    Occupation|HomeOwnerFlag|NumberCarsOwned|CommuteDistance|TotalPurchaseYTD|       Model|ProductCategoryName|\n",
      "+---------+--------+--------------------+-----------------+-----------+-------------+-------------------+------+-------------+--------------------+-------------------+--------------+-------------+---------------+---------------+----------------+------------+-------------------+\n",
      "|    Chloe|   Young|244 Willow Pass Road|      2003-07-22Z|1979-02-27Z|            S|        25001-50000|     F|            0|                   0|    Partial College|Skilled Manual|            0|              1|     5-10 Miles|            NULL|Mountain-200|              Bikes|\n",
      "|    Wyatt|    Hill| 9666 Northridge Ct.|      2003-08-13Z|1979-04-28Z|            M|        25001-50000|     M|            0|                   0|    Partial College|Skilled Manual|            1|              1|     5-10 Miles|            NULL|Mountain-200|              Bikes|\n",
      "| Jennifer| Russell|3981 Augustine Drive|      2003-07-26Z|1978-12-18Z|            M|        50001-75000|     F|            0|                   0|    Partial College|Skilled Manual|            1|              2|      1-2 Miles|            NULL|Mountain-200|              Bikes|\n",
      "|   Amanda|  Carter|        5826 Escobar|      2003-07-18Z|1977-10-16Z|            M|        50001-75000|     F|            0|                   0|    Partial College|Skilled Manual|            1|              2|      1-2 Miles|            NULL|Mountain-200|              Bikes|\n",
      "|    Megan| Sanchez|    1397 Paraiso Ct.|      2003-07-25Z|1977-06-13Z|            M|        50001-75000|     F|            0|                   0|    Partial College|Skilled Manual|            1|              2|      0-1 Miles|            NULL|Touring-3000|              Bikes|\n",
      "|    Megan| Sanchez|    1397 Paraiso Ct.|      2003-07-25Z|1977-06-13Z|            M|        50001-75000|     F|            0|                   0|    Partial College|Skilled Manual|            1|              2|      0-1 Miles|            NULL|Mountain-200|              Bikes|\n",
      "|      Ana|   Price|1660 Stonyhill Ci...|      2003-07-21Z|1980-08-20Z|            M|        50001-75000|     F|            0|                   0|    Partial College|Skilled Manual|            0|              2|      1-2 Miles|            NULL|Mountain-200|              Bikes|\n",
      "|    Chase|    Reed|  2721 Alexander Pl.|      2003-07-29Z|1975-12-07Z|            M|        25001-50000|     M|            0|                   0|        High School|Skilled Manual|            1|              2|     5-10 Miles|            NULL|Mountain-200|              Bikes|\n",
      "|   Angela|  Butler|     6040 Listing Ct|      2003-07-26Z|1966-08-04Z|            S|greater than 100000|     F|            0|                   1|    Graduate Degree|    Management|            0|              3|      1-2 Miles|            NULL|Touring-3000|              Bikes|\n",
      "|   Angela|  Butler|     6040 Listing Ct|      2003-07-26Z|1966-08-04Z|            S|greater than 100000|     F|            0|                   1|    Graduate Degree|    Management|            0|              3|      1-2 Miles|            NULL|Mountain-200|              Bikes|\n",
      "|   Alyssa|     Cox| 867 La Orinda Place|      2003-07-10Z|1966-03-15Z|            M|greater than 100000|     F|            0|                   1|    Graduate Degree|    Management|            1|              3|      1-2 Miles|            NULL|Touring-3000|              Bikes|\n",
      "|   Alyssa|     Cox| 867 La Orinda Place|      2003-07-10Z|1966-03-15Z|            M|greater than 100000|     F|            0|                   1|    Graduate Degree|    Management|            1|              3|      1-2 Miles|            NULL|Mountain-200|              Bikes|\n",
      "|   Hunter|   Davis|4308 Sand Pointe ...|      2003-07-17Z|1957-11-25Z|            M|       75001-100000|     M|            2|                   1|         Bachelors |    Management|            1|              0|      2-5 Miles|            NULL|Touring-3000|              Bikes|\n",
      "|   Hunter|   Davis|4308 Sand Pointe ...|      2003-07-17Z|1957-11-25Z|            M|       75001-100000|     M|            2|                   1|         Bachelors |    Management|            1|              0|      2-5 Miles|            NULL|Mountain-200|              Bikes|\n",
      "|  Abigail|   Price|   2685 Blackburn Ct|      2003-07-02Z|1957-02-05Z|            S|       75001-100000|     F|            2|                   1|         Bachelors |    Management|            1|              1|      2-5 Miles|            NULL|Touring-3000|              Bikes|\n",
      "|  Abigail|   Price|   2685 Blackburn Ct|      2003-07-02Z|1957-02-05Z|            S|       75001-100000|     F|            2|                   1|         Bachelors |    Management|            1|              1|      2-5 Miles|            NULL|Mountain-200|              Bikes|\n",
      "|   Trevor|  Bryant|     5781 Sharon Dr.|      2002-02-07Z|1957-12-17Z|            S|       75001-100000|     M|            2|                   0|    Partial College|  Professional|            1|              1|      2-5 Miles|            NULL|Touring-3000|              Bikes|\n",
      "|   Trevor|  Bryant|     5781 Sharon Dr.|      2002-02-07Z|1957-12-17Z|            S|       75001-100000|     M|            2|                   0|    Partial College|  Professional|            1|              1|      2-5 Miles|            NULL|Mountain-200|              Bikes|\n",
      "|   Trevor|  Bryant|     5781 Sharon Dr.|      2002-02-07Z|1957-12-17Z|            S|       75001-100000|     M|            2|                   0|    Partial College|  Professional|            1|              1|      2-5 Miles|            NULL|    Road-150|              Bikes|\n",
      "|   Marcus|  Harris|9068 Quiet Place ...|      2003-10-20Z|1979-11-03Z|            S|        25001-50000|     M|            0|                   0|Partial High School|      Clerical|            0|              2|     5-10 Miles|            NULL|Mountain-200|              Bikes|\n",
      "+---------+--------+--------------------+-----------------+-----------+-------------+-------------------+------+-------------+--------------------+-------------------+--------------+-------------+---------------+---------------+----------------+------------+-------------------+\n",
      "only showing top 20 rows\n",
      "\n"
     ]
    }
   ],
   "source": [
    "df_cust_details.show()"
   ]
  },
  {
   "cell_type": "code",
   "execution_count": 124,
   "metadata": {},
   "outputs": [
    {
     "name": "stderr",
     "output_type": "stream",
     "text": [
      "                                                                                \r"
     ]
    }
   ],
   "source": [
    "output_path = \"../workshop-files/customer_details.csv\"\n",
    "\n",
    "df_cust_details.toPandas().to_csv(output_path, index=False, header=True)"
   ]
  }
 ],
 "metadata": {
  "kernelspec": {
   "display_name": "devenv",
   "language": "python",
   "name": "python3"
  },
  "language_info": {
   "codemirror_mode": {
    "name": "ipython",
    "version": 3
   },
   "file_extension": ".py",
   "mimetype": "text/x-python",
   "name": "python",
   "nbconvert_exporter": "python",
   "pygments_lexer": "ipython3",
   "version": "3.12.4"
  }
 },
 "nbformat": 4,
 "nbformat_minor": 2
}
